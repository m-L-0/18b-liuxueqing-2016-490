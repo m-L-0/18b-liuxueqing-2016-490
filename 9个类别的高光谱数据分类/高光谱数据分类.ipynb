{
 "cells": [
  {
   "cell_type": "code",
   "execution_count": 25,
   "metadata": {},
   "outputs": [],
   "source": [
    "#1.导入模块\n",
    "import numpy as np\n",
    "import scipy.io as sio#读取.mat文件\n",
    "\n",
    "#2.导入数据集\n",
    "load_data1 = sio.loadmat('./train/data2_train.mat')\n",
    "load_data2 = sio.loadmat('./train/data3_train.mat')\n",
    "load_data3 = sio.loadmat('./train/data5_train.mat')\n",
    "load_data4 = sio.loadmat('./train/data6_train.mat')\n",
    "load_data5 = sio.loadmat('./train/data8_train.mat')\n",
    "load_data6 = sio.loadmat('./train/data10_train.mat')\n",
    "load_data7 = sio.loadmat('./train/data11_train.mat')\n",
    "load_data8 = sio.loadmat('./train/data12_train.mat')\n",
    "load_data9 = sio.loadmat('./train/data14_train.mat')\n",
    "test_data = sio.loadmat('./data_test_final.mat')\n"
   ]
  },
  {
   "cell_type": "code",
   "execution_count": 26,
   "metadata": {},
   "outputs": [],
   "source": [
    "#3.合并9个数据集，每个文件的数据对应的标签设为从1到9\n",
    "data1 =load_data1['data2_train']\n",
    "data2 =load_data2['data3_train']\n",
    "data3 =load_data3['data5_train']\n",
    "data4 =load_data4['data6_train']\n",
    "data5 =load_data5['data8_train']\n",
    "data6 =load_data6['data10_train']\n",
    "data7 =load_data7['data11_train']\n",
    "data8 =load_data8['data12_train']\n",
    "data9 =load_data9['data14_train']\n",
    "test = test_data['data_test_final']\n",
    "\n",
    "data = np.vstack((data1,data2,data3,data4,data5,data6,data7,data8,data9))\n",
    "label = [1,2,3,4,5,6,7,8,9]\n",
    "repeat = [len(data1),len(data2),len(data3),len(data4),len(data5),len(data6),len(data7),len(data8),len(data9)]\n",
    "label_data = np.repeat(label,repeat)"
   ]
  },
  {
   "cell_type": "code",
   "execution_count": 27,
   "metadata": {},
   "outputs": [
    {
     "data": {
      "text/plain": [
       "(1385, 200)"
      ]
     },
     "execution_count": 27,
     "metadata": {},
     "output_type": "execute_result"
    }
   ],
   "source": [
    "#4.划分训练集和测试集，百分之八十训练，百分之二十测试\n",
    "from sklearn.cross_validation import train_test_split\n",
    "trainx,testx,trainy,testy = train_test_split(data,label_data,train_size=0.8,random_state=5)\n",
    "\n",
    "#5.导入SVC模块\n",
    "from sklearn.svm import SVC\n",
    "\n",
    "#归一化\n",
    "trainx=(trainx-trainx.min())/(trainx.max()-trainx.min())\n",
    "testx=(testx-testx.min())/(testx.max()-testx.min())\n",
    "test = (test-test.min())/(test.max()-test.min())\n",
    "testx.shape\n"
   ]
  },
  {
   "cell_type": "code",
   "execution_count": 28,
   "metadata": {},
   "outputs": [
    {
     "name": "stdout",
     "output_type": "stream",
     "text": [
      "train_acc: 0.9833905037010291\n",
      "test_acc: 0.9386281588447654\n"
     ]
    }
   ],
   "source": [
    "#由于随机森林的正确率较低 所以尝试用SVC模型\n",
    "\n",
    "#训练SVC模型，并给出训练集和验证集的正确率\n",
    "clf = SVC(C=250,gamma=1.75,class_weight='balanced')\n",
    "clf.fit(trainx,trainy)\n",
    "train_acc= clf.score(trainx,trainy)\n",
    "test_acc= clf.score(testx,testy)\n",
    "print('train_acc:',train_acc)\n",
    "print('test_acc:',test_acc)\n",
    "\n"
   ]
  },
  {
   "cell_type": "code",
   "execution_count": 15,
   "metadata": {},
   "outputs": [
    {
     "name": "stdout",
     "output_type": "stream",
     "text": [
      "[1 3 2 ... 9 1 4]\n",
      "[ 2  5  3 ... 14  2  6]\n"
     ]
    }
   ],
   "source": [
    "#用已经训练好的模型训练测试集\n",
    "y_pre=clf.predict(test)\n",
    "print(y_pre)\n",
    "\n",
    "#字典函数，把1-9换成对应的标签\n",
    "def transform(argument):\n",
    "    switcher = {\n",
    "        1:2,2:3,3:5,4:6,5:8,6:10,7:11,8:12,9:14,\n",
    "    }\n",
    "    return switcher.get(argument, \"nothing\")\n",
    "\n",
    "#转换对应的标签\n",
    "for i in range(len(y_pre)):\n",
    "    y_pre[i] = transform(y_pre[i])\n",
    "print(y_pre)"
   ]
  },
  {
   "cell_type": "code",
   "execution_count": 29,
   "metadata": {},
   "outputs": [],
   "source": [
    "#保存标签到csv文件中\n",
    "import pandas as pd\n",
    "data_ = pd.DataFrame(y_pre)\n",
    "data_.to_csv('test_label')"
   ]
  },
  {
   "cell_type": "code",
   "execution_count": null,
   "metadata": {},
   "outputs": [],
   "source": []
  }
 ],
 "metadata": {
  "kernelspec": {
   "display_name": "Python 3",
   "language": "python",
   "name": "python3"
  },
  "language_info": {
   "codemirror_mode": {
    "name": "ipython",
    "version": 3
   },
   "file_extension": ".py",
   "mimetype": "text/x-python",
   "name": "python",
   "nbconvert_exporter": "python",
   "pygments_lexer": "ipython3",
   "version": "3.6.5"
  }
 },
 "nbformat": 4,
 "nbformat_minor": 2
}
